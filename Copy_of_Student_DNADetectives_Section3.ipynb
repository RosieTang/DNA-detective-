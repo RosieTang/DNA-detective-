{
  "nbformat": 4,
  "nbformat_minor": 0,
  "metadata": {
    "colab": {
      "provenance": []
    },
    "kernelspec": {
      "name": "python3",
      "display_name": "Python 3"
    }
  },
  "cells": [
    {
      "cell_type": "markdown",
      "metadata": {
        "id": "i46RCXx_hCk9"
      },
      "source": [
        "# Goals"
      ]
    },
    {
      "cell_type": "markdown",
      "metadata": {
        "id": "C0doqIOEhJBC"
      },
      "source": [
        "In this colab, you will:\n",
        "*   Learn how to clean up and preprocess genome data\n",
        "*   Convert genomic data into a feature matrix\n",
        "*   Build a logistic regression model predicting the country a SARS-CoV-2 lineage came from based on its genome\n",
        "\n",
        "\n",
        "\n"
      ]
    },
    {
      "cell_type": "code",
      "metadata": {
        "id": "9VJHN3yph4Uy",
        "cellView": "form",
        "colab": {
          "base_uri": "https://localhost:8080/"
        },
        "outputId": "37a5b691-8b67-43a7-ec1c-5d4b38afd4f4"
      },
      "source": [
        "#@title Set up the notebook\n",
        "!pip install Biopython\n",
        "from Bio import SeqIO\n",
        "import numpy as np\n",
        "import pandas as pd\n",
        "import tqdm\n",
        "import matplotlib.pyplot as plt\n",
        "import seaborn as sns\n",
        "from sklearn.metrics import confusion_matrix\n",
        "from collections import Counter\n",
        "from sklearn import model_selection, linear_model\n",
        "\n",
        "# import gdown\n",
        "# data_path = 'https://drive.google.com/uc?id=1f1CtRwSohB7uaAypn8iA4oqdXlD_xXL1'\n",
        "# cov2_sequences = 'SARS_CoV_2_sequences_global.fasta'\n",
        "# gdown.download(data_path, cov2_sequences, True)\n",
        "\n",
        "!wget 'https://storage.googleapis.com/inspirit-ai-data-bucket-1/Data/AI%20Scholars/Sessions%206%20-%2010%20(Projects)/Project%20-%20DNA%20Detectives/SARS_CoV_2_sequences_global.fasta'\n",
        "cov2_sequences = 'SARS_CoV_2_sequences_global.fasta'\n"
      ],
      "execution_count": null,
      "outputs": [
        {
          "output_type": "stream",
          "name": "stdout",
          "text": [
            "Looking in indexes: https://pypi.org/simple, https://us-python.pkg.dev/colab-wheels/public/simple/\n",
            "Collecting Biopython\n",
            "  Downloading biopython-1.79-cp37-cp37m-manylinux_2_5_x86_64.manylinux1_x86_64.whl (2.3 MB)\n",
            "\u001b[K     |████████████████████████████████| 2.3 MB 30.2 MB/s \n",
            "\u001b[?25hRequirement already satisfied: numpy in /usr/local/lib/python3.7/dist-packages (from Biopython) (1.21.6)\n",
            "Installing collected packages: Biopython\n",
            "Successfully installed Biopython-1.79\n",
            "--2022-07-15 03:51:18--  https://storage.googleapis.com/inspirit-ai-data-bucket-1/Data/AI%20Scholars/Sessions%206%20-%2010%20(Projects)/Project%20-%20DNA%20Detectives/SARS_CoV_2_sequences_global.fasta\n",
            "Resolving storage.googleapis.com (storage.googleapis.com)... 142.250.73.240, 142.250.81.208, 172.217.1.208, ...\n",
            "Connecting to storage.googleapis.com (storage.googleapis.com)|142.250.73.240|:443... connected.\n",
            "HTTP request sent, awaiting response... 200 OK\n",
            "Length: 46950263 (45M) [application/octet-stream]\n",
            "Saving to: ‘SARS_CoV_2_sequences_global.fasta’\n",
            "\n",
            "SARS_CoV_2_sequence 100%[===================>]  44.77M   173MB/s    in 0.3s    \n",
            "\n",
            "2022-07-15 03:51:18 (173 MB/s) - ‘SARS_CoV_2_sequences_global.fasta’ saved [46950263/46950263]\n",
            "\n"
          ]
        }
      ]
    },
    {
      "cell_type": "markdown",
      "metadata": {
        "id": "8GVs1Qd_iMF3"
      },
      "source": [
        "# Data preprocessing"
      ]
    },
    {
      "cell_type": "markdown",
      "metadata": {
        "id": "IPVl67ETxHK5"
      },
      "source": [
        "## Read in and examine the data."
      ]
    },
    {
      "cell_type": "markdown",
      "metadata": {
        "id": "R4jSF-_jw3oz"
      },
      "source": [
        "We are going to read in a set of SARS-CoV-2 genomes from around the world. Note that sequence #0 is the \"reference sequence\"-- one of the original sequences from Wuhan. These global sequences come from the [NCBI database](https://www.ncbi.nlm.nih.gov/labs/virus/vssi/#/virus?SeqType_s=Nucleotide&VirusLineage_ss=SARS-CoV-2,%20taxid:2697049&SLen_i=29000%20TO%2031000&Completeness_s=complete&HostLineage_ss=Homo%20sapiens%20(human),%20taxid:9606).  You can examine the different sequences using the form below."
      ]
    },
    {
      "cell_type": "code",
      "metadata": {
        "id": "dvPJa6Gegnjw",
        "colab": {
          "base_uri": "https://localhost:8080/"
        },
        "outputId": "f76f4f3f-9726-488c-debd-8b948452b4e9"
      },
      "source": [
        "sequences = [r for r in SeqIO.parse(cov2_sequences, 'fasta')]\n",
        "sequence_num =  1530#@param {type:\"integer\"}\n",
        "print(sequences[sequence_num])"
      ],
      "execution_count": null,
      "outputs": [
        {
          "output_type": "stream",
          "name": "stdout",
          "text": [
            "ID: MT358656\n",
            "Name: MT358656\n",
            "Description: MT358656 |Severe acute respiratory syndrome coronavirus 2 isolate SARS-CoV-2/human/USA/WA-UW-4281/2020| complete genome|USA\n",
            "Number of features: 0\n",
            "Seq('---------TTATACCTTCCCAGGTAACAAACCAACCAACTTTCGATCTCTTGT...---')\n"
          ]
        }
      ]
    },
    {
      "cell_type": "markdown",
      "metadata": {
        "id": "crQdJz8Yyz5t"
      },
      "source": [
        "###**Exercise: How many sequences are there?**\n",
        "\n",
        "Note: Sequences have been uploaded/stored in a variable called ```sequences```."
      ]
    },
    {
      "cell_type": "code",
      "metadata": {
        "id": "2L6mli7Gyz5u",
        "colab": {
          "base_uri": "https://localhost:8080/"
        },
        "outputId": "58374b77-d59d-4efb-d03b-7f9d9d858266"
      },
      "source": [
        "n_sequences = len(sequences)###### FILL IN #####\n",
        "print(\"There are %f sequences\" % n_sequences)"
      ],
      "execution_count": null,
      "outputs": [
        {
          "output_type": "stream",
          "name": "stdout",
          "text": [
            "There are 1538.000000 sequences\n"
          ]
        }
      ]
    },
    {
      "cell_type": "markdown",
      "metadata": {
        "id": "B6cnVm9ExOGu"
      },
      "source": [
        "###**Exercise: How different are the 1st (non-reference) and 10th SARS-CoV-2 sequences?**\n",
        "\n"
      ]
    },
    {
      "cell_type": "code",
      "metadata": {
        "id": "zkwJlRubxicM",
        "colab": {
          "base_uri": "https://localhost:8080/"
        },
        "outputId": "733c6361-9603-4aef-e6ce-a921f959fd04"
      },
      "source": [
        "sequence_1 = np.array(sequences[0])\n",
        "sequence_10 = np.array(sequences[9])\n",
        "percent_similarity =  sum(sequence_1 == sequence_10)/len(sequence_1)*100 # Percent similarity between the sequences.\n",
        "print(\"Sequence 1 and 10 similarity: %\", percent_similarity)"
      ],
      "execution_count": null,
      "outputs": [
        {
          "output_type": "stream",
          "name": "stdout",
          "text": [
            "Sequence 1 and 10 similarity: % 99.9765909774939\n"
          ]
        }
      ]
    },
    {
      "cell_type": "markdown",
      "metadata": {
        "id": "ZHqVhusUxJj6"
      },
      "source": [
        "### **Exercise (BONUS):  Make a histogram of the number of mutations each SARS-CoV-2 sequence has compared to the reference genome.**"
      ]
    },
    {
      "cell_type": "code",
      "metadata": {
        "id": "CPF5jWPexNmY",
        "colab": {
          "base_uri": "https://localhost:8080/",
          "height": 279
        },
        "outputId": "b3070907-233c-4848-bd8e-4c588df2e35a"
      },
      "source": [
        "reference = np.array(sequences[0])\n",
        "mutations_per_seq = [sum(np.array(x)!=sequences[0]) for x in sequences] ###### FILL IN #####\n",
        "\n",
        "plt.hist(mutations_per_seq)\n",
        "plt.xlabel('# mutations')\n",
        "plt.ylabel('# sequences')\n",
        "plt.show()"
      ],
      "execution_count": null,
      "outputs": [
        {
          "output_type": "display_data",
          "data": {
            "text/plain": [
              "<Figure size 432x288 with 1 Axes>"
            ],
            "image/png": "[encoded data removed]"
          },
          "metadata": {
            "needs_background": "light"
          }
        }
      ]
    },
    {
      "cell_type": "markdown",
      "metadata": {
        "id": "ZqgCNKdJ2O4l"
      },
      "source": [
        "Interestingly, it looks like there are a couple sequences with a LOT of mutations! We can investigate these sequences a little more.\n",
        "\n",
        "**Examine some of these sequences with high number of mutations by selecting the minimum # of mutations from the form below. What do you notice about the sequences? Discuss with your instructor and peers.**\n",
        "\n"
      ]
    },
    {
      "cell_type": "code",
      "source": [
        "mutations_per_seq = np.array(mutations_per_seq)"
      ],
      "metadata": {
        "id": "V1UXcuCJ39D0"
      },
      "execution_count": null,
      "outputs": []
    },
    {
      "cell_type": "code",
      "metadata": {
        "id": "S9VSB3eTzJT0",
        "colab": {
          "base_uri": "https://localhost:8080/"
        },
        "outputId": "ee2a2990-8194-4841-c6c0-c7293957c8f3"
      },
      "source": [
        "min_number_of_mutations  =  340#@param {type:\"integer\"}\n",
        "idx = np.random.choice(np.where(mutations_per_seq>min_number_of_mutations)[0])\n",
        "print(\"Sequence %i has > %.0f mutations! \\n\" % (idx, min_number_of_mutations))\n",
        "print(sequences[idx], '\\n')\n",
        "print(\"The sequence is composed of: \")\n",
        "Counter(np.array(sequences[idx]))"
      ],
      "execution_count": null,
      "outputs": [
        {
          "output_type": "stream",
          "name": "stdout",
          "text": [
            "Sequence 108 has > 340 mutations! \n",
            "\n",
            "ID: MT374101\n",
            "Name: MT374101\n",
            "Description: MT374101 |Severe acute respiratory syndrome coronavirus 2 isolate SARS-CoV-2/human/TWN/CGMH-CGU-02/2020| complete genome|Taiwan\n",
            "Number of features: 0\n",
            "Seq('ATTAAAGGTTTATACCTTCCCAGGTAACAAACCAACCAACTTTCGATCTCTTGT...AAA') \n",
            "\n",
            "The sequence is composed of: \n"
          ]
        },
        {
          "output_type": "execute_result",
          "data": {
            "text/plain": [
              "Counter({'-': 382, 'A': 8840, 'C': 5418, 'G': 5796, 'T': 9467})"
            ]
          },
          "metadata": {},
          "execution_count": 10
        }
      ]
    },
    {
      "cell_type": "markdown",
      "metadata": {
        "id": "K3_3xSpe20IT"
      },
      "source": [
        "## Missing Data\n"
      ]
    },
    {
      "cell_type": "markdown",
      "metadata": {
        "id": "wgzI9GyD2h9b"
      },
      "source": [
        "It is hard to see, but some of the sequences have `N` in them. Run the cell below for an example\n",
        "\n",
        "### **Exercise: Calculate the number of sequences that have an ```N``` in them.**\n",
        "\n",
        "**What do you think ```N``` means?**"
      ]
    },
    {
      "cell_type": "code",
      "metadata": {
        "id": "eWw4fp1w3MRJ",
        "colab": {
          "base_uri": "https://localhost:8080/"
        },
        "outputId": "96d69114-58d0-4696-d843-d7d5d0bba650"
      },
      "source": [
        "n_sequences_with_N = sum(['N' in x for x in sequences])\n",
        "\n",
        "###### FILL IN #####\n",
        "\n",
        "print('%i sequences have at least 1 \"N\"!' % n_sequences_with_N)"
      ],
      "execution_count": null,
      "outputs": [
        {
          "output_type": "stream",
          "name": "stdout",
          "text": [
            "326 sequences have at least 1 \"N\"!\n"
          ]
        }
      ]
    },
    {
      "cell_type": "markdown",
      "metadata": {
        "id": "eno1YJJo2flS"
      },
      "source": [
        "\n",
        "`N` is not a nucleic acid- it just stands for \"missing\", or \"low quality\". \"Missing\" is different than ```_``` or a deletion. At the locations with ```N```, the sequencing machine had low quality data here, so it was unable to determine what base was at that location. We should remember this when we extact our features. Stay tuned for more on sequencing machines and how sequences are built in the bonus colab of this project!"
      ]
    },
    {
      "cell_type": "markdown",
      "metadata": {
        "id": "2Y4r8Qk64P1n"
      },
      "source": [
        "# Feature Extraction\n",
        "\n",
        "We are going to build a model that predicts the country a SARS-CoV-2 virus came from based on its genome."
      ]
    },
    {
      "cell_type": "markdown",
      "metadata": {
        "id": "eD96VzFr65jR"
      },
      "source": [
        "### **Exercise: Recall the structure of machine learning models.**\n",
        "**In general what two categories of data do we need to build a supervised machine learning model? What will we use for each category?**\n"
      ]
    },
    {
      "cell_type": "code",
      "metadata": {
        "id": "gVJga_xZ_MP4",
        "cellView": "form",
        "colab": {
          "base_uri": "https://localhost:8080/"
        },
        "outputId": "90d9b735-ae26-4e0c-ffc4-1c8275fd4ecd"
      },
      "source": [
        "_1_  =  'inputs' #@param {type:\"string\"}\n",
        "_2_  =  'labels' #@param {type:\"string\"}\n",
        "\n",
        "print('1. We need a set of FEATURES (X).\\n',\n",
        "      '  Our features will be the genomes of the different sequences.')\n",
        "print('2. We need LABElS (Y).\\n',\n",
        "      '  Our labels will be the country that each sequence came from.')\n"
      ],
      "execution_count": null,
      "outputs": [
        {
          "output_type": "stream",
          "name": "stdout",
          "text": [
            "1. We need a set of FEATURES (X).\n",
            "   Our features will be the genomes of the different sequences.\n",
            "2. We need LABElS (Y).\n",
            "   Our labels will be the country that each sequence came from.\n"
          ]
        }
      ]
    },
    {
      "cell_type": "markdown",
      "metadata": {
        "id": "KrHyaErMp9fB"
      },
      "source": [
        "**Question: How will we turn our features into a numeric matrix?**"
      ]
    },
    {
      "cell_type": "markdown",
      "metadata": {
        "id": "6A72g_7uSyVP"
      },
      "source": [
        "## Extract Features (X)"
      ]
    },
    {
      "cell_type": "markdown",
      "metadata": {
        "id": "I3ZU8b4fdXo6"
      },
      "source": [
        "Remember that our input must be a *numeric* matrix/table.\n",
        "We are going to create a matrix where our features are the presence/absence of a specific mutation (given by ```<location>```_```<base>```).  \n",
        "\n",
        "Our columns will be 1_A, 1_T, 3_G, 4_A, etc.\n",
        "\n",
        "\n",
        "| Sequence ID | 1_A | 1_C | 3_G | 4_A  | ...|\n",
        "|-------------|-----|-----|-----|------|----|\n",
        "|Sequence 1   |  1  |  0  |   1 |    0 |  0 |\n",
        "|Sequence 2   |  0  |  0  |   1 |    0 |  0 |\n",
        "|Sequence 3   |  1  |  0  |   0 |    0 |  0 |\n",
        "|Sequence 4   |  0  |  1  |   0 |    1 |  1 |\n",
        "|Sequence 5   |  1  |  0  |   0 |    0 |  1 |\n",
        "\n",
        "\n"
      ]
    },
    {
      "cell_type": "code",
      "metadata": {
        "id": "fTy_D41nBYe-"
      },
      "source": [
        "# Note: This can take a couple minutes to run!\n",
        "# but we can monitor our progress using the tqdm library\n",
        "mutation_df = pd.DataFrame()\n",
        "n_bases_in_seq = len(sequences[0])\n",
        "\n",
        "# Iterate though all positions in this sequence.\n",
        "for location in tqdm.tqdm(range(n_bases_in_seq)): # tqdm is a nice library that prints our progress.\n",
        "  bases_at_location = np.array([s[location] for s in sequences])\n",
        "  # If there are no mutations at this position, move on.\n",
        "  if len(set(bases_at_location))==1: continue # If\n",
        "  for base in ['A', 'T', 'G', 'C', '-']:\n",
        "    feature_values = (bases_at_location==base)\n",
        "\n",
        "    # Set the values of any base that equals 'N' to np.nan.\n",
        "    feature_values[bases_at_location==['N']] = np.nan\n",
        "\n",
        "    # Convert from T/F to 0/1.\n",
        "    feature_values  = feature_values*1\n",
        "\n",
        "    # Make the column name look like <location>_<base> (1_A, 2_G, 3_A, etc.)\n",
        "    column_name = str(location) + '_' + base\n",
        "    mutation_df[column_name] = feature_values\n",
        "\n",
        "# Print the size of the feature matrix/table.\n",
        "n_rows = np.shape(mutation_df)[0]\n",
        "n_columns = np.shape(mutation_df)[1]\n",
        "print(\"Size of matrix: %i rows x %i columns\" %(n_rows, n_columns))\n",
        "\n",
        "# Check what the matrix looks like:\n",
        "mutation_df.tail()"
      ],
      "execution_count": null,
      "outputs": []
    },
    {
      "cell_type": "markdown",
      "metadata": {
        "id": "VrC_ymFoSs_g"
      },
      "source": [
        "## Extract Label (Y)"
      ]
    },
    {
      "cell_type": "markdown",
      "metadata": {
        "id": "MfQVTqPhIYUr"
      },
      "source": [
        "We are going to use the region of the world that each sample came from as the **label**. ![alt text](https://upload.wikimedia.org/wikipedia/commons/3/3d/Flag-map_of_the_world_%282017%29.png)\n",
        "\n",
        "First, let's see how many samples we have from different countries."
      ]
    },
    {
      "cell_type": "code",
      "metadata": {
        "id": "pxL3w1MHFx0k"
      },
      "source": [
        "#@title ###**Exercise: Explore the different number of samples that come from each country.**\n",
        "country = \"Nepal\" #@param dict_keys(['China', 'Kazakhstan', 'India', 'Sri Lanka', 'Taiwan', 'Hong Kong', 'Viet Nam', 'Thailand', 'Nepal', 'Israel', 'South Korea', 'Iran', 'Pakistan', 'Turkey', 'Australia', 'USA']\n",
        "countries = [(s.description).split('|')[-1] for s in sequences]\n",
        "print(\"There are %i sequences from %s.\" %\n",
        "      (Counter(countries)[country], country))"
      ],
      "execution_count": null,
      "outputs": []
    },
    {
      "cell_type": "markdown",
      "metadata": {
        "id": "0uu2QZpFdzGG"
      },
      "source": [
        "Since some countries only have a couple samples, we are going to use the **region** of the world as our labels.\n",
        "\n",
        "Since we have a large number of samples from Asia, North America, and Oceania, we will filter ours sequences to just these regions. We will convert our countries to regions using the code below.\n",
        "\n",
        "### **Exercise: Convert each country to its region of the world.**\n",
        "**Use the code below to create a dictionary of ```<country>```:```<region>``` where ```region``` is either ```'Oceania'```, ```'North America'```, or ```'Asia'```, and convert each country to region.**"
      ]
    },
    {
      "cell_type": "code",
      "metadata": {
        "id": "ODOhep8g8LCB",
        "cellView": "both"
      },
      "source": [
        "countries_to_regions_dict = {\n",
        "         'Australia': 'Oceania',\n",
        "         'China': 'Asia',\n",
        "         'Hong Kong': 'Asia' ,\n",
        "         'India': 'Asia' ,\n",
        "         'Nepal': 'Asia' ,\n",
        "         'South Korea': 'Asia' ,\n",
        "         'Sri Lanka': 'Asia' ,\n",
        "         'Taiwan': 'Asia' ,\n",
        "         'Thailand': 'Asia' ,\n",
        "         'USA': 'North America' ,\n",
        "         'Viet Nam': 'Asia'\n",
        "}\n",
        "\n",
        "regions = [countries_to_regions_dict[c] if c in\n",
        "           countries_to_regions_dict else 'NA' for c in countries]\n",
        "mutation_df['label'] = regions"
      ],
      "execution_count": null,
      "outputs": []
    },
    {
      "cell_type": "markdown",
      "metadata": {
        "id": "GXuNJGj0K94L"
      },
      "source": [
        "**Now see how many samples there are from each region of the world.**"
      ]
    },
    {
      "cell_type": "code",
      "metadata": {
        "id": "R8xUF_S-K809",
        "cellView": "form"
      },
      "source": [
        "region = \"Asia\" #@param ['Oceania', 'North America', 'Asia']\n",
        "print(\"There are %i sequences from %s.\" %\n",
        "      (Counter(regions)[region], region))"
      ],
      "execution_count": null,
      "outputs": []
    },
    {
      "cell_type": "markdown",
      "metadata": {
        "id": "AxVN5LnFLX4X"
      },
      "source": [
        "## Balancing the Data\n"
      ]
    },
    {
      "cell_type": "markdown",
      "metadata": {
        "id": "rCfkZVGnkCLL"
      },
      "source": [
        "Recall that ML models work the best if we have *balanced* data- a dataset with equal numbers of samples with each label. Run the following code to remove duplicate samples from the dataset, and then balance the samples.\n",
        "\n",
        "### **Exercise: Balance the data equally between samples from Asia, Oceania, and North America**"
      ]
    },
    {
      "cell_type": "code",
      "metadata": {
        "id": "rsGQiLUzL0hI"
      },
      "source": [
        "balanced_df = mutation_df.copy()\n",
        "balanced_df['label'] = regions\n",
        "balanced_df = balanced_df[balanced_df.label!='NA']\n",
        "balanced_df = balanced_df.drop_duplicates()\n",
        "samples_north_america = balanced_df[balanced_df.label== 'North America' ]\n",
        "samples_oceania = balanced_df[balanced_df.label== 'Oceania' ]\n",
        "samples_asia = balanced_df[balanced_df.label== 'Asia' ]\n",
        "\n",
        "# Number of samples we will use from each region.\n",
        "n = min(len(samples_north_america),\n",
        "        len(samples_oceania),\n",
        "        len(samples_asia))\n",
        "\n",
        "balanced_df = pd.concat([samples_north_america[:n],\n",
        "                    samples_asia[:n],\n",
        "                    samples_oceania[:n]])\n",
        "print(\"Number of samples in each region: \", Counter(balanced_df['label']))"
      ],
      "execution_count": null,
      "outputs": []
    },
    {
      "cell_type": "markdown",
      "metadata": {
        "id": "EJBRsrulXnUG"
      },
      "source": [
        "# Logistic Regression Model"
      ]
    },
    {
      "cell_type": "markdown",
      "metadata": {
        "id": "rwZJYgOxQx11"
      },
      "source": [
        "***Congrats!***  We finally are done with preprocessing/cleaning our data! Although tedious, this is an important part of doing machine learning in biology. The data can be complex and messy, and if we don't do some cleaning up beforehand, our models will have poor performance.\n",
        "\n",
        "\n",
        "![](https://media.makeameme.org/created/we-did-it-3b3ac27d2a.jpg)\n",
        "\n",
        "\n",
        "Finally, run the code to set up a ```X``` feature matrix and a ```Y``` label list from our ```balanced_df```. You can explore the different values using the code below:"
      ]
    },
    {
      "cell_type": "code",
      "metadata": {
        "id": "p5Ebb7WuO1Oq",
        "cellView": "form"
      },
      "source": [
        "X = balanced_df.drop('label', 1)\n",
        "Y = balanced_df.label\n",
        "data = \"X (features)\" #@param ['X (features)', 'Y (label)']\n",
        "start = 1 #@param {type:'integer'}\n",
        "stop =  10#@param {type:'integer'}\n",
        "\n",
        "if start>=stop:print(\"Start must be < stop!\")\n",
        "else:\n",
        "  if data=='X (features)':\n",
        "    print(X.iloc[start:stop])\n",
        "  if data=='Y (label)':\n",
        "    print(Y[start:stop])"
      ],
      "execution_count": null,
      "outputs": []
    },
    {
      "cell_type": "markdown",
      "metadata": {
        "id": "rDviuy5wc3-e"
      },
      "source": [
        "In preparation for training and testing our model, we need to import two key functions:\n",
        "\n",
        "* `train_test_split()`, used to split the data into training and testing portions, and\n",
        "* `accuracy_score()`, for testing the accuracy of our model's predictions against the labels in our testing data.\n",
        "\n",
        "Run the next code block to import these functions!"
      ]
    },
    {
      "cell_type": "code",
      "metadata": {
        "id": "k2-pzKByc41O"
      },
      "source": [
        "from sklearn.model_selection import train_test_split\n",
        "from sklearn.metrics import accuracy_score"
      ],
      "execution_count": null,
      "outputs": []
    },
    {
      "cell_type": "markdown",
      "metadata": {
        "id": "F4fAOFq3iqFl"
      },
      "source": [
        "## Training"
      ]
    },
    {
      "cell_type": "markdown",
      "metadata": {
        "id": "PcksFwDLlOsE"
      },
      "source": [
        "We will be using the logistic regression model we have learned about with one modification. We will use the \"multinomial\" class of logistic regression model.  This is used when there are more than 2 categories in the label set. In our case, we have ```Asia```, ```North America```, and ```North America``` as our possible labels.\n",
        "\n",
        "### **Exercise: Train the model using the standard pipeline you have mastered!**"
      ]
    },
    {
      "cell_type": "code",
      "metadata": {
        "id": "qbxYkappX6Y6"
      },
      "source": [
        "lm = linear_model.LogisticRegression(\n",
        "    multi_class=\"multinomial\", max_iter=1000,\n",
        "    fit_intercept=False, tol=0.001, solver='saga', random_state=42)\n",
        "\n",
        "# Split into training/testing set. Use a training size of .8\n",
        "X_train, X_test, Y_train, Y_test = train_test_split(X, Y, train_size = 0.8) #### FILL IN #####\n",
        "\n",
        "# Train/fit model\n",
        "lm.fit(X_train, Y_train)\n",
        "\n"
      ],
      "execution_count": null,
      "outputs": []
    },
    {
      "cell_type": "markdown",
      "metadata": {
        "id": "dEoMF1rGisxC"
      },
      "source": [
        "## Testing/Evaluation\n",
        "\n",
        "In addition to printing the accuracy of a model, we can also use a *confusion matrix* to see how well the model performed."
      ]
    },
    {
      "cell_type": "markdown",
      "metadata": {
        "id": "LXLmY1hfqGT7"
      },
      "source": [
        "###**Exercise: Evaluate the model on the test set.**\n"
      ]
    },
    {
      "cell_type": "code",
      "metadata": {
        "id": "JYGTYPopp5WR",
        "cellView": "both"
      },
      "source": [
        "# Predict on the test set.\n",
        "Y_pred = lm.predict(X_test)###### FILL IN #########\n",
        "\n",
        "# Compute accuracy.\n",
        "accuracy = accuracy_score(Y_test, Y_pred)###### FILL IN #########\n",
        "print(\"Accuracy: %\", accuracy)\n",
        "\n",
        "# Compute confusion matrix.\n",
        "confusion_mat = pd.DataFrame(confusion_matrix(Y_test, Y_pred))\n",
        "confusion_mat.columns = [c + ' predicted' for c in lm.classes_]\n",
        "confusion_mat.index = [c + ' true' for c in lm.classes_]\n",
        "\n",
        "print(confusion_mat)"
      ],
      "execution_count": null,
      "outputs": []
    },
    {
      "cell_type": "markdown",
      "metadata": {
        "id": "0HwrfLGMKaG4"
      },
      "source": [
        "# Wrapping up"
      ]
    },
    {
      "cell_type": "markdown",
      "metadata": {
        "id": "2qcebZzBnhVd"
      },
      "source": [
        "![alt text](https://memecrunch.com/meme/60HHF/done-and-done/image.jpg)"
      ]
    },
    {
      "cell_type": "markdown",
      "metadata": {
        "id": "jAgFs2spqoHF"
      },
      "source": [
        "***Great job!*** You built a pretty accurate model that uses genomic data to predict what country a SARS-CoV-2 sample comes from."
      ]
    },
    {
      "cell_type": "code",
      "metadata": {
        "id": "dsiiqHD5qzOg",
        "cellView": "form"
      },
      "source": [
        "#@title #### **Exercise: To wrap up, write a couple of sentences explaining how your model performed.**\n",
        "Response = \"\" #@param {type:\"string\"}\n"
      ],
      "execution_count": null,
      "outputs": []
    }
  ]
}